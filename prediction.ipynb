{
 "cells": [
  {
   "cell_type": "code",
   "execution_count": 5,
   "metadata": {},
   "outputs": [],
   "source": [
    "# Step 1: Import Libraries and Load the Model\n",
    "import numpy as np\n",
    "import tensorflow as tf\n",
    "from tensorflow.keras.datasets import imdb\n",
    "from tensorflow.keras.preprocessing import sequence\n",
    "from tensorflow.keras.models import load_model"
   ]
  },
  {
   "cell_type": "code",
   "execution_count": 6,
   "metadata": {},
   "outputs": [],
   "source": [
    "## Load the IMDB dataset word index\n",
    "word_index = imdb.get_word_index()\n",
    "reverse_word_index = {value: key for key, value in word_index.items()}"
   ]
  },
  {
   "cell_type": "code",
   "execution_count": 7,
   "metadata": {},
   "outputs": [
    {
     "name": "stderr",
     "output_type": "stream",
     "text": [
      "WARNING:absl:Compiled the loaded model, but the compiled metrics have yet to be built. `model.compile_metrics` will be empty until you train or evaluate the model.\n"
     ]
    },
    {
     "data": {
      "text/html": [
       "<pre style=\"white-space:pre;overflow-x:auto;line-height:normal;font-family:Menlo,'DejaVu Sans Mono',consolas,'Courier New',monospace\"><span style=\"font-weight: bold\">Model: \"sequential\"</span>\n",
       "</pre>\n"
      ],
      "text/plain": [
       "\u001b[1mModel: \"sequential\"\u001b[0m\n"
      ]
     },
     "metadata": {},
     "output_type": "display_data"
    },
    {
     "data": {
      "text/html": [
       "<pre style=\"white-space:pre;overflow-x:auto;line-height:normal;font-family:Menlo,'DejaVu Sans Mono',consolas,'Courier New',monospace\">┏━━━━━━━━━━━━━━━━━━━━━━━━━━━━━━━━━┳━━━━━━━━━━━━━━━━━━━━━━━━┳━━━━━━━━━━━━━━━┓\n",
       "┃<span style=\"font-weight: bold\"> Layer (type)                    </span>┃<span style=\"font-weight: bold\"> Output Shape           </span>┃<span style=\"font-weight: bold\">       Param # </span>┃\n",
       "┡━━━━━━━━━━━━━━━━━━━━━━━━━━━━━━━━━╇━━━━━━━━━━━━━━━━━━━━━━━━╇━━━━━━━━━━━━━━━┩\n",
       "│ embedding (<span style=\"color: #0087ff; text-decoration-color: #0087ff\">Embedding</span>)           │ (<span style=\"color: #00af00; text-decoration-color: #00af00\">32</span>, <span style=\"color: #00af00; text-decoration-color: #00af00\">500</span>, <span style=\"color: #00af00; text-decoration-color: #00af00\">128</span>)         │     <span style=\"color: #00af00; text-decoration-color: #00af00\">1,280,000</span> │\n",
       "├─────────────────────────────────┼────────────────────────┼───────────────┤\n",
       "│ simple_rnn (<span style=\"color: #0087ff; text-decoration-color: #0087ff\">SimpleRNN</span>)          │ (<span style=\"color: #00af00; text-decoration-color: #00af00\">32</span>, <span style=\"color: #00af00; text-decoration-color: #00af00\">128</span>)              │        <span style=\"color: #00af00; text-decoration-color: #00af00\">32,896</span> │\n",
       "├─────────────────────────────────┼────────────────────────┼───────────────┤\n",
       "│ dense (<span style=\"color: #0087ff; text-decoration-color: #0087ff\">Dense</span>)                   │ (<span style=\"color: #00af00; text-decoration-color: #00af00\">32</span>, <span style=\"color: #00af00; text-decoration-color: #00af00\">1</span>)                │           <span style=\"color: #00af00; text-decoration-color: #00af00\">129</span> │\n",
       "└─────────────────────────────────┴────────────────────────┴───────────────┘\n",
       "</pre>\n"
      ],
      "text/plain": [
       "┏━━━━━━━━━━━━━━━━━━━━━━━━━━━━━━━━━┳━━━━━━━━━━━━━━━━━━━━━━━━┳━━━━━━━━━━━━━━━┓\n",
       "┃\u001b[1m \u001b[0m\u001b[1mLayer (type)                   \u001b[0m\u001b[1m \u001b[0m┃\u001b[1m \u001b[0m\u001b[1mOutput Shape          \u001b[0m\u001b[1m \u001b[0m┃\u001b[1m \u001b[0m\u001b[1m      Param #\u001b[0m\u001b[1m \u001b[0m┃\n",
       "┡━━━━━━━━━━━━━━━━━━━━━━━━━━━━━━━━━╇━━━━━━━━━━━━━━━━━━━━━━━━╇━━━━━━━━━━━━━━━┩\n",
       "│ embedding (\u001b[38;5;33mEmbedding\u001b[0m)           │ (\u001b[38;5;34m32\u001b[0m, \u001b[38;5;34m500\u001b[0m, \u001b[38;5;34m128\u001b[0m)         │     \u001b[38;5;34m1,280,000\u001b[0m │\n",
       "├─────────────────────────────────┼────────────────────────┼───────────────┤\n",
       "│ simple_rnn (\u001b[38;5;33mSimpleRNN\u001b[0m)          │ (\u001b[38;5;34m32\u001b[0m, \u001b[38;5;34m128\u001b[0m)              │        \u001b[38;5;34m32,896\u001b[0m │\n",
       "├─────────────────────────────────┼────────────────────────┼───────────────┤\n",
       "│ dense (\u001b[38;5;33mDense\u001b[0m)                   │ (\u001b[38;5;34m32\u001b[0m, \u001b[38;5;34m1\u001b[0m)                │           \u001b[38;5;34m129\u001b[0m │\n",
       "└─────────────────────────────────┴────────────────────────┴───────────────┘\n"
      ]
     },
     "metadata": {},
     "output_type": "display_data"
    },
    {
     "data": {
      "text/html": [
       "<pre style=\"white-space:pre;overflow-x:auto;line-height:normal;font-family:Menlo,'DejaVu Sans Mono',consolas,'Courier New',monospace\"><span style=\"font-weight: bold\"> Total params: </span><span style=\"color: #00af00; text-decoration-color: #00af00\">1,313,027</span> (5.01 MB)\n",
       "</pre>\n"
      ],
      "text/plain": [
       "\u001b[1m Total params: \u001b[0m\u001b[38;5;34m1,313,027\u001b[0m (5.01 MB)\n"
      ]
     },
     "metadata": {},
     "output_type": "display_data"
    },
    {
     "data": {
      "text/html": [
       "<pre style=\"white-space:pre;overflow-x:auto;line-height:normal;font-family:Menlo,'DejaVu Sans Mono',consolas,'Courier New',monospace\"><span style=\"font-weight: bold\"> Trainable params: </span><span style=\"color: #00af00; text-decoration-color: #00af00\">1,313,025</span> (5.01 MB)\n",
       "</pre>\n"
      ],
      "text/plain": [
       "\u001b[1m Trainable params: \u001b[0m\u001b[38;5;34m1,313,025\u001b[0m (5.01 MB)\n"
      ]
     },
     "metadata": {},
     "output_type": "display_data"
    },
    {
     "data": {
      "text/html": [
       "<pre style=\"white-space:pre;overflow-x:auto;line-height:normal;font-family:Menlo,'DejaVu Sans Mono',consolas,'Courier New',monospace\"><span style=\"font-weight: bold\"> Non-trainable params: </span><span style=\"color: #00af00; text-decoration-color: #00af00\">0</span> (0.00 B)\n",
       "</pre>\n"
      ],
      "text/plain": [
       "\u001b[1m Non-trainable params: \u001b[0m\u001b[38;5;34m0\u001b[0m (0.00 B)\n"
      ]
     },
     "metadata": {},
     "output_type": "display_data"
    },
    {
     "data": {
      "text/html": [
       "<pre style=\"white-space:pre;overflow-x:auto;line-height:normal;font-family:Menlo,'DejaVu Sans Mono',consolas,'Courier New',monospace\"><span style=\"font-weight: bold\"> Optimizer params: </span><span style=\"color: #00af00; text-decoration-color: #00af00\">2</span> (12.00 B)\n",
       "</pre>\n"
      ],
      "text/plain": [
       "\u001b[1m Optimizer params: \u001b[0m\u001b[38;5;34m2\u001b[0m (12.00 B)\n"
      ]
     },
     "metadata": {},
     "output_type": "display_data"
    }
   ],
   "source": [
    "# Load the pre-trained model with ReLU activation\n",
    "model = load_model('simple_rnn_imdb.h5')\n",
    "model.summary()"
   ]
  },
  {
   "cell_type": "code",
   "execution_count": 8,
   "metadata": {},
   "outputs": [
    {
     "data": {
      "text/plain": [
       "[array([[ 0.03942265,  0.0607206 ,  0.05780013, ..., -0.00358007,\n",
       "          0.00122275,  0.08263845],\n",
       "        [-0.00504678,  0.03656498, -0.00035207, ...,  0.01330462,\n",
       "         -0.02382651,  0.03426003],\n",
       "        [ 0.00530509,  0.06235649, -0.02174442, ..., -0.00620512,\n",
       "         -0.0056374 ,  0.02202117],\n",
       "        ...,\n",
       "        [ 0.00288724,  0.02274755,  0.03010961, ..., -0.0477268 ,\n",
       "          0.07206374,  0.03314839],\n",
       "        [ 0.08798782,  0.04332861,  0.06864619, ..., -0.00619371,\n",
       "         -0.05452584, -0.04459292],\n",
       "        [-0.0681058 , -0.0811887 , -0.02545688, ..., -0.01222904,\n",
       "          0.14155439,  0.06875548]], shape=(10000, 128), dtype=float32),\n",
       " array([[-0.07760082,  0.00536049, -0.12396502, ..., -0.10617927,\n",
       "         -0.08365884,  0.05753574],\n",
       "        [-0.0406442 , -0.01761938,  0.00369343, ...,  0.12054884,\n",
       "         -0.08964066,  0.05847774],\n",
       "        [-0.00623343, -0.1483854 , -0.14566779, ...,  0.01988189,\n",
       "          0.05628829, -0.09877947],\n",
       "        ...,\n",
       "        [-0.01318102, -0.14014192,  0.02136064, ...,  0.06551122,\n",
       "         -0.11995393, -0.07249711],\n",
       "        [ 0.03606121, -0.05218049, -0.12500405, ...,  0.15719527,\n",
       "          0.15553734, -0.01030501],\n",
       "        [-0.06124986,  0.16022865,  0.04348011, ...,  0.20040725,\n",
       "          0.08477861,  0.12329382]], shape=(128, 128), dtype=float32),\n",
       " array([[-0.09956009,  0.05363013,  0.06518178, ..., -0.04916577,\n",
       "         -0.1654742 , -0.00947911],\n",
       "        [-0.0535529 ,  0.09763475, -0.01508147, ...,  0.17667888,\n",
       "          0.00079711, -0.06998324],\n",
       "        [ 0.11158844,  0.05965231,  0.00415835, ..., -0.02025584,\n",
       "          0.15639912, -0.06867889],\n",
       "        ...,\n",
       "        [ 0.05523403,  0.08219548,  0.03206724, ..., -0.0427956 ,\n",
       "          0.02064976, -0.03170886],\n",
       "        [ 0.0284373 ,  0.12131347,  0.00076979, ...,  0.01601036,\n",
       "         -0.00800934,  0.1838175 ],\n",
       "        [ 0.01662536,  0.08554986,  0.04199558, ..., -0.00658889,\n",
       "          0.0760479 ,  0.01833671]], shape=(128, 128), dtype=float32),\n",
       " array([-8.19722377e-03,  2.46514194e-03,  2.30126195e-02, -5.05784014e-03,\n",
       "        -3.14872409e-03, -1.45490812e-02, -2.22047931e-03,  2.63532978e-02,\n",
       "        -1.59398094e-02,  1.40642365e-02,  1.26071945e-02,  1.74737070e-02,\n",
       "        -7.03615090e-03, -5.46252262e-03,  5.48506202e-03, -4.68378700e-03,\n",
       "        -6.19605999e-04, -1.87179714e-03, -2.58062948e-02, -2.14564409e-02,\n",
       "         1.19615924e-02, -2.73272605e-03, -2.16361769e-02, -7.40833860e-03,\n",
       "         7.23490641e-02,  5.80376480e-03, -1.14550637e-02, -9.42320097e-04,\n",
       "        -7.96907861e-03,  3.48634203e-03, -2.11256407e-02, -6.79147243e-03,\n",
       "        -5.22976508e-03, -2.41023190e-02, -9.84249450e-03,  5.70739212e-04,\n",
       "        -1.51389576e-02, -5.66679565e-03,  5.91727905e-03, -1.50581757e-02,\n",
       "        -4.83968761e-03, -1.42052919e-02, -2.77179643e-03,  9.67397762e-04,\n",
       "        -6.23124558e-03,  2.74526104e-02,  1.37587367e-02,  1.71998572e-02,\n",
       "        -1.03803538e-02, -2.21936405e-03, -4.66671679e-03, -4.83358372e-03,\n",
       "        -1.30414264e-03,  6.39803568e-03,  1.17814858e-02, -5.81834838e-03,\n",
       "         6.29129261e-03, -1.88002903e-02,  4.04212298e-03, -3.79377161e-03,\n",
       "        -1.26872323e-02, -9.07633081e-03,  1.77778155e-02, -2.03757249e-02,\n",
       "        -4.04643106e-05, -1.30176479e-02, -1.06546544e-02, -1.66652910e-02,\n",
       "        -3.06771062e-02, -2.00501084e-03, -3.22949071e-03, -1.71439664e-04,\n",
       "         3.67168279e-04,  7.76601210e-03,  1.39640840e-02, -1.51915681e-02,\n",
       "        -2.24561733e-03, -7.82712735e-03,  1.99250542e-02, -9.36098455e-04,\n",
       "         1.19278696e-03, -7.84703251e-03,  6.06107153e-03,  1.63852163e-02,\n",
       "         1.47260083e-02,  1.05896425e-02, -1.52663933e-03,  4.39126231e-03,\n",
       "        -4.92252875e-03,  6.53305603e-03, -1.59181673e-02, -7.07497215e-03,\n",
       "         2.97861313e-03, -5.36306470e-04, -6.89679291e-03,  6.57837139e-03,\n",
       "        -3.41700646e-03, -2.15690099e-02,  4.84484714e-03, -5.38446940e-03,\n",
       "        -9.78262909e-03, -7.41934590e-03,  5.58060687e-03, -2.55853496e-02,\n",
       "         1.53093291e-02, -1.30288312e-02, -1.16097089e-02, -1.51272686e-02,\n",
       "        -1.17230732e-02, -1.76838494e-03, -1.82998180e-02, -6.52102055e-03,\n",
       "        -1.61210063e-03,  6.19750982e-03,  3.99677083e-03,  1.49793718e-02,\n",
       "         6.89516449e-03,  2.47872826e-02,  1.24115506e-02,  1.29071483e-02,\n",
       "         9.50439740e-03,  1.19390860e-02, -8.56276543e-04,  3.17679835e-03,\n",
       "        -1.01462891e-03,  4.14608326e-03,  5.88189811e-03, -1.81981064e-02],\n",
       "       dtype=float32),\n",
       " array([[-0.24458653],\n",
       "        [-0.04837545],\n",
       "        [ 0.21290477],\n",
       "        [-0.49802053],\n",
       "        [ 0.03138391],\n",
       "        [ 0.07024316],\n",
       "        [-0.07052962],\n",
       "        [ 0.02763271],\n",
       "        [-0.00128242],\n",
       "        [ 0.08364256],\n",
       "        [ 0.13766201],\n",
       "        [ 0.20698017],\n",
       "        [ 0.12522991],\n",
       "        [ 0.06737737],\n",
       "        [-0.07701015],\n",
       "        [-0.17319408],\n",
       "        [-0.18344244],\n",
       "        [-0.1879048 ],\n",
       "        [ 0.07699247],\n",
       "        [-0.12510614],\n",
       "        [-0.1671155 ],\n",
       "        [ 0.11625386],\n",
       "        [ 0.07417099],\n",
       "        [-0.1616689 ],\n",
       "        [-0.29606572],\n",
       "        [ 0.1046817 ],\n",
       "        [-0.07368894],\n",
       "        [-0.28679517],\n",
       "        [-0.07611141],\n",
       "        [-0.10505445],\n",
       "        [-0.01679407],\n",
       "        [ 0.15159738],\n",
       "        [-0.15938376],\n",
       "        [ 0.06578397],\n",
       "        [-0.15822849],\n",
       "        [-0.18370861],\n",
       "        [-0.35875678],\n",
       "        [-0.21190818],\n",
       "        [ 0.04790059],\n",
       "        [-0.11532389],\n",
       "        [ 0.18240836],\n",
       "        [-0.05931527],\n",
       "        [-0.10437292],\n",
       "        [-0.9106857 ],\n",
       "        [-0.1754365 ],\n",
       "        [-0.00358437],\n",
       "        [ 0.24786592],\n",
       "        [ 0.23635963],\n",
       "        [ 0.13418972],\n",
       "        [-0.14148602],\n",
       "        [ 0.08558308],\n",
       "        [-0.07334209],\n",
       "        [-0.14461376],\n",
       "        [ 0.15286271],\n",
       "        [-0.09573593],\n",
       "        [ 0.06073754],\n",
       "        [-0.17230769],\n",
       "        [-0.08589114],\n",
       "        [-0.12528938],\n",
       "        [-0.08093024],\n",
       "        [-0.01030437],\n",
       "        [-0.15281925],\n",
       "        [ 0.15839401],\n",
       "        [-0.02491583],\n",
       "        [-0.43059307],\n",
       "        [-0.30121222],\n",
       "        [-0.19126795],\n",
       "        [-0.32109517],\n",
       "        [-0.3875687 ],\n",
       "        [-0.06912153],\n",
       "        [-0.15738973],\n",
       "        [ 0.20937446],\n",
       "        [ 0.18465549],\n",
       "        [-0.19048999],\n",
       "        [ 0.07952138],\n",
       "        [-0.41415167],\n",
       "        [-0.17720713],\n",
       "        [-0.07678343],\n",
       "        [ 0.10348115],\n",
       "        [ 0.24200195],\n",
       "        [ 0.1655371 ],\n",
       "        [-0.19679597],\n",
       "        [-0.06437612],\n",
       "        [ 0.19952191],\n",
       "        [ 0.23501618],\n",
       "        [ 0.1806648 ],\n",
       "        [-0.46327734],\n",
       "        [-0.08780269],\n",
       "        [-0.06798831],\n",
       "        [-0.06288707],\n",
       "        [-0.17101331],\n",
       "        [-0.17498787],\n",
       "        [ 0.1801195 ],\n",
       "        [ 0.06140959],\n",
       "        [-0.08192369],\n",
       "        [-0.5956751 ],\n",
       "        [-0.03592596],\n",
       "        [-0.1477677 ],\n",
       "        [ 0.2121667 ],\n",
       "        [-0.0448486 ],\n",
       "        [-0.11766429],\n",
       "        [ 0.22346845],\n",
       "        [ 0.0890802 ],\n",
       "        [ 0.02189375],\n",
       "        [-0.13473284],\n",
       "        [ 0.08275916],\n",
       "        [-0.18544878],\n",
       "        [-0.20384571],\n",
       "        [-0.04551546],\n",
       "        [-0.09500793],\n",
       "        [-0.02363433],\n",
       "        [ 0.07863453],\n",
       "        [ 0.01635863],\n",
       "        [-0.05190234],\n",
       "        [-0.1545322 ],\n",
       "        [-0.67316365],\n",
       "        [ 0.02259674],\n",
       "        [ 0.04745056],\n",
       "        [ 0.23935384],\n",
       "        [ 0.06736965],\n",
       "        [ 0.24348807],\n",
       "        [-0.22520445],\n",
       "        [ 0.02161858],\n",
       "        [-0.42840326],\n",
       "        [-0.00650679],\n",
       "        [ 0.05917201],\n",
       "        [ 0.10842037],\n",
       "        [-0.07303066]], dtype=float32),\n",
       " array([-0.5502815], dtype=float32)]"
      ]
     },
     "execution_count": 8,
     "metadata": {},
     "output_type": "execute_result"
    }
   ],
   "source": [
    "model.get_weights()"
   ]
  },
  {
   "cell_type": "code",
   "execution_count": 9,
   "metadata": {},
   "outputs": [],
   "source": [
    "# Step 2: Helper Functions\n",
    "# Function to decode reviews\n",
    "def decode_review(encoded_review):\n",
    "    return ' '.join([reverse_word_index.get(i - 3, '?') for i in encoded_review])\n",
    "\n",
    "# Function to preprocess user input\n",
    "def preprocess_text(text):\n",
    "    words = text.lower().split()\n",
    "    encoded_review = [word_index.get(word, 2) + 3 for word in words]\n",
    "    padded_review = sequence.pad_sequences([encoded_review], maxlen=500)\n",
    "    return padded_review"
   ]
  },
  {
   "cell_type": "code",
   "execution_count": 10,
   "metadata": {},
   "outputs": [],
   "source": [
    "### Prediction  function\n",
    "\n",
    "def predict_sentiment(review):\n",
    "    preprocessed_input=preprocess_text(review)\n",
    "\n",
    "    prediction=model.predict(preprocessed_input)\n",
    "\n",
    "    sentiment = 'Positive' if prediction[0][0] > 0.5 else 'Negative'\n",
    "    \n",
    "    return sentiment, prediction[0][0]\n",
    "\n"
   ]
  },
  {
   "cell_type": "code",
   "execution_count": 11,
   "metadata": {},
   "outputs": [
    {
     "name": "stdout",
     "output_type": "stream",
     "text": [
      "\u001b[1m1/1\u001b[0m \u001b[32m━━━━━━━━━━━━━━━━━━━━\u001b[0m\u001b[37m\u001b[0m \u001b[1m0s\u001b[0m 238ms/step\n",
      "Review: This movie was fantastic! The acting was great and the plot was thrilling.\n",
      "Sentiment: Positive\n",
      "Prediction Score: 0.9969679117202759\n"
     ]
    }
   ],
   "source": [
    "# Step 4: User Input and Prediction\n",
    "# Example review for prediction\n",
    "example_review = \"This movie was fantastic! The acting was great and the plot was thrilling.\"\n",
    "\n",
    "sentiment,score=predict_sentiment(example_review)\n",
    "\n",
    "print(f'Review: {example_review}')\n",
    "print(f'Sentiment: {sentiment}')\n",
    "print(f'Prediction Score: {score}')"
   ]
  }
 ],
 "metadata": {
  "kernelspec": {
   "display_name": "venv",
   "language": "python",
   "name": "python3"
  },
  "language_info": {
   "codemirror_mode": {
    "name": "ipython",
    "version": 3
   },
   "file_extension": ".py",
   "mimetype": "text/x-python",
   "name": "python",
   "nbconvert_exporter": "python",
   "pygments_lexer": "ipython3",
   "version": "3.12.0"
  }
 },
 "nbformat": 4,
 "nbformat_minor": 2
}
